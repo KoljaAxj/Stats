{
 "cells": [
  {
   "cell_type": "code",
   "execution_count": 14,
   "metadata": {},
   "outputs": [],
   "source": [
    "import numpy as np\n",
    "import scipy as sp\n",
    "import matplotlib.pyplot as plt"
   ]
  },
  {
   "cell_type": "code",
   "execution_count": 47,
   "metadata": {},
   "outputs": [],
   "source": [
    "def plot_samplemean_dist(sample_size, iterations):\n",
    "    list_of_means = []\n",
    "    for i in range(iterations):\n",
    "        #s = np.random.standard_normal([sample_size])\n",
    "        #s = np.random.standard_exponential([sample_size])\n",
    "        s = np.random.standard_gamma([sample_size])\n",
    "        #s = np.random.standard_cauchy([sample_size])\n",
    "        list_of_means.append(np.mean(s))\n",
    "    a = np.asarray(list_of_means)\n",
    "    return plt.hist(a, bins = 'auto')"
   ]
  },
  {
   "cell_type": "code",
   "execution_count": 51,
   "metadata": {},
   "outputs": [
    {
     "data": {
      "text/plain": [
       "(array([  6.,  12.,  41.,  87., 151., 219., 285., 332., 395., 445., 506.,\n",
       "        479., 479., 535., 507., 514., 490., 456., 437., 406., 363., 367.,\n",
       "        295., 247., 240., 215., 192., 165., 164., 151., 133., 112.,  82.,\n",
       "         70.,  82.,  61.,  50.,  43.,  22.,  30.,  20.,  13.,  20.,  17.,\n",
       "          5.,  12.,   8.,   6.,   6.,   3.,   7.,   3.,   3.,   3.,   1.,\n",
       "          0.,   0.,   1.,   2.,   3.,   0.,   0.,   1.]),\n",
       " array([ 0.40492264,  0.66934658,  0.93377052,  1.19819446,  1.4626184 ,\n",
       "         1.72704235,  1.99146629,  2.25589023,  2.52031417,  2.78473811,\n",
       "         3.04916206,  3.313586  ,  3.57800994,  3.84243388,  4.10685782,\n",
       "         4.37128176,  4.63570571,  4.90012965,  5.16455359,  5.42897753,\n",
       "         5.69340147,  5.95782542,  6.22224936,  6.4866733 ,  6.75109724,\n",
       "         7.01552118,  7.27994513,  7.54436907,  7.80879301,  8.07321695,\n",
       "         8.33764089,  8.60206484,  8.86648878,  9.13091272,  9.39533666,\n",
       "         9.6597606 ,  9.92418455, 10.18860849, 10.45303243, 10.71745637,\n",
       "        10.98188031, 11.24630425, 11.5107282 , 11.77515214, 12.03957608,\n",
       "        12.30400002, 12.56842396, 12.83284791, 13.09727185, 13.36169579,\n",
       "        13.62611973, 13.89054367, 14.15496762, 14.41939156, 14.6838155 ,\n",
       "        14.94823944, 15.21266338, 15.47708733, 15.74151127, 16.00593521,\n",
       "        16.27035915, 16.53478309, 16.79920704, 17.06363098]),\n",
       " <a list of 63 Patch objects>)"
      ]
     },
     "execution_count": 51,
     "metadata": {},
     "output_type": "execute_result"
    },
    {
     "data": {
      "image/png": "[encoded data removed]",
      "text/plain": [
       "<Figure size 432x288 with 1 Axes>"
      ]
     },
     "metadata": {},
     "output_type": "display_data"
    }
   ],
   "source": [
    "plot_samplemean_dist(5, 10000)"
   ]
  },
  {
   "cell_type": "code",
   "execution_count": null,
   "metadata": {},
   "outputs": [],
   "source": []
  }
 ],
 "metadata": {
  "kernelspec": {
   "display_name": "Python 3",
   "language": "python",
   "name": "python3"
  },
  "language_info": {
   "codemirror_mode": {
    "name": "ipython",
    "version": 3
   },
   "file_extension": ".py",
   "mimetype": "text/x-python",
   "name": "python",
   "nbconvert_exporter": "python",
   "pygments_lexer": "ipython3",
   "version": "3.6.5"
  }
 },
 "nbformat": 4,
 "nbformat_minor": 2
}
